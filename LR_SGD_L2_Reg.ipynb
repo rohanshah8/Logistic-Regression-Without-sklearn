{
  "nbformat": 4,
  "nbformat_minor": 0,
  "metadata": {
    "colab": {
      "provenance": [],
      "collapsed_sections": []
    },
    "kernelspec": {
      "name": "python3",
      "display_name": "Python 3"
    },
    "language_info": {
      "name": "python"
    }
  },
  "cells": [
    {
      "cell_type": "code",
      "execution_count": null,
      "metadata": {
        "id": "1Zp4LkDOgv2j"
      },
      "outputs": [],
      "source": [
        "import numpy as np\n",
        "import pandas as pd\n",
        "from sklearn.datasets import make_classification\n",
        "from sklearn.model_selection import train_test_split\n",
        "from sklearn.preprocessing import StandardScaler\n",
        "from sklearn import linear_model"
      ]
    },
    {
      "cell_type": "code",
      "source": [
        "X, y = make_classification(n_samples=50000, n_features=15, n_informative=10, n_redundant=5,\n",
        "                           n_classes=2, weights=[0.7], class_sep=0.7, random_state=15)\n"
      ],
      "metadata": {
        "id": "qWeP12P4gx30"
      },
      "execution_count": null,
      "outputs": []
    },
    {
      "cell_type": "code",
      "source": [
        "X_train, X_test, y_train, y_test = train_test_split(X, y, test_size=0.25, random_state=15)\n",
        "# Standardizing the data.\n",
        "scaler = StandardScaler()\n",
        "X_train = scaler.fit_transform(X_train)\n",
        "X_test = scaler.transform(X_test)"
      ],
      "metadata": {
        "id": "cskFZHEsg1Wl"
      },
      "execution_count": null,
      "outputs": []
    },
    {
      "cell_type": "code",
      "execution_count": null,
      "metadata": {
        "colab": {
          "base_uri": "https://localhost:8080/",
          "height": 118
        },
        "id": "3HpvTwDHyQQy",
        "outputId": "5729f08c-079a-4b17-bf51-f9aeb5abb13b"
      },
      "outputs": [
        {
          "data": {
            "text/plain": [
              "SGDClassifier(alpha=0.0001, average=False, class_weight=None, epsilon=0.1,\n",
              "       eta0=0.0001, fit_intercept=True, l1_ratio=0.15,\n",
              "       learning_rate='constant', loss='log', max_iter=None, n_iter=None,\n",
              "       n_jobs=1, penalty='l2', power_t=0.5, random_state=15, shuffle=True,\n",
              "       tol=0.001, verbose=2, warm_start=False)"
            ]
          },
          "execution_count": 7,
          "metadata": {},
          "output_type": "execute_result"
        }
      ],
      "source": [
        "# alpha : float\n",
        "# Constant that multiplies the regularization term. \n",
        "clf = linear_model.SGDClassifier(eta0=0.0001, alpha=0.0001, loss='log', random_state=15, penalty='l2', tol=1e-3, verbose=2, learning_rate='constant')\n",
        "clf"
      ]
    },
    {
      "cell_type": "code",
      "execution_count": null,
      "metadata": {
        "colab": {
          "base_uri": "https://localhost:8080/",
          "height": 638
        },
        "id": "YYaVyQ2lyXcr",
        "outputId": "dc0bf840-b37e-4552-e513-84b64f6c64c4"
      },
      "outputs": [
        {
          "name": "stdout",
          "output_type": "stream",
          "text": [
            "-- Epoch 1\n",
            "Norm: 0.70, NNZs: 15, Bias: -0.499391, T: 37500, Avg. loss: 0.552631\n",
            "Total training time: 0.01 seconds.\n",
            "-- Epoch 2\n",
            "Norm: 1.04, NNZs: 15, Bias: -0.750277, T: 75000, Avg. loss: 0.448128\n",
            "Total training time: 0.02 seconds.\n",
            "-- Epoch 3\n",
            "Norm: 1.26, NNZs: 15, Bias: -0.902777, T: 112500, Avg. loss: 0.415726\n",
            "Total training time: 0.03 seconds.\n",
            "-- Epoch 4\n",
            "Norm: 1.42, NNZs: 15, Bias: -1.003874, T: 150000, Avg. loss: 0.400898\n",
            "Total training time: 0.04 seconds.\n",
            "-- Epoch 5\n",
            "Norm: 1.55, NNZs: 15, Bias: -1.075094, T: 187500, Avg. loss: 0.392871\n",
            "Total training time: 0.05 seconds.\n",
            "-- Epoch 6\n",
            "Norm: 1.65, NNZs: 15, Bias: -1.128728, T: 225000, Avg. loss: 0.388085\n",
            "Total training time: 0.06 seconds.\n",
            "-- Epoch 7\n",
            "Norm: 1.73, NNZs: 15, Bias: -1.169943, T: 262500, Avg. loss: 0.385063\n",
            "Total training time: 0.07 seconds.\n",
            "-- Epoch 8\n",
            "Norm: 1.80, NNZs: 15, Bias: -1.203552, T: 300000, Avg. loss: 0.383058\n",
            "Total training time: 0.08 seconds.\n",
            "-- Epoch 9\n",
            "Norm: 1.86, NNZs: 15, Bias: -1.230411, T: 337500, Avg. loss: 0.381694\n",
            "Total training time: 0.08 seconds.\n",
            "-- Epoch 10\n",
            "Norm: 1.91, NNZs: 15, Bias: -1.249466, T: 375000, Avg. loss: 0.380756\n",
            "Total training time: 0.09 seconds.\n",
            "Convergence after 10 epochs took 0.09 seconds\n"
          ]
        },
        {
          "data": {
            "text/plain": [
              "SGDClassifier(alpha=0.0001, average=False, class_weight=None, epsilon=0.1,\n",
              "       eta0=0.0001, fit_intercept=True, l1_ratio=0.15,\n",
              "       learning_rate='constant', loss='log', max_iter=None, n_iter=None,\n",
              "       n_jobs=1, penalty='l2', power_t=0.5, random_state=15, shuffle=True,\n",
              "       tol=0.001, verbose=2, warm_start=False)"
            ]
          },
          "execution_count": 8,
          "metadata": {},
          "output_type": "execute_result"
        }
      ],
      "source": [
        "clf.fit(X=X_train, y=y_train) # fitting our model"
      ]
    },
    {
      "cell_type": "code",
      "execution_count": null,
      "metadata": {
        "colab": {
          "base_uri": "https://localhost:8080/",
          "height": 101
        },
        "id": "EAfkVI6GyaRO",
        "outputId": "bc88f920-6531-4106-9b4c-4dabb6d72b47"
      },
      "outputs": [
        {
          "data": {
            "text/plain": [
              "(array([[-0.83187476,  0.58935497, -0.05233948,  0.59159475, -0.33771644,\n",
              "          0.87826212, -0.85798961, -0.06890856,  0.37968271,  0.3720168 ,\n",
              "          0.22881296,  0.04398642, -0.08060734,  0.51274272,  0.07080401]]),\n",
              " (1, 15),\n",
              " array([-1.24946622]))"
            ]
          },
          "execution_count": 9,
          "metadata": {},
          "output_type": "execute_result"
        }
      ],
      "source": [
        "clf.coef_, clf.coef_.shape, clf.intercept_\n",
        "#clf.coef_ will return the weights\n",
        "#clf.coef_.shape will return the shape of weights\n",
        "#clf.intercept_ will return the intercept term"
      ]
    },
    {
      "cell_type": "code",
      "execution_count": null,
      "metadata": {
        "id": "GecwYV9fsKZ9"
      },
      "outputs": [],
      "source": [
        "def initialize_weights(dim):\n",
        "    ''' In this function, we will initialize our weights and bias'''\n",
        "    #initialize the weights to zeros array of (1,dim) dimensions\n",
        "    #you use zeros_like function to initialize zero, check this link https://docs.scipy.org/doc/numpy/reference/generated/numpy.zeros_like.html\n",
        "    #initialize bias to zero\n",
        "    w=np.zeros_like(dim)\n",
        "    b=0\n",
        "    return w,b"
      ]
    },
    {
      "cell_type": "markdown",
      "metadata": {
        "id": "QN83oMWy_5rv"
      },
      "source": [
        "<font color='blue'>Compute sigmoid </font>"
      ]
    },
    {
      "cell_type": "markdown",
      "metadata": {
        "id": "qPv4NJuxABgs"
      },
      "source": [
        "$sigmoid(z)= 1/(1+exp(-z))$"
      ]
    },
    {
      "cell_type": "code",
      "execution_count": null,
      "metadata": {
        "id": "nAfmQF47_Sd6"
      },
      "outputs": [],
      "source": [
        "def sigmoid(z):\n",
        "    ''' In this function, we will return sigmoid of z'''\n",
        "    # compute sigmoid(z) and return\n",
        "    sigz=1/(1+np.exp(-z))\n",
        "    return sigz"
      ]
    },
    {
      "cell_type": "markdown",
      "metadata": {
        "id": "gS7JXbcrBOFF"
      },
      "source": [
        "<font color='blue'> Compute loss </font>"
      ]
    },
    {
      "cell_type": "markdown",
      "metadata": {
        "id": "lfEiS22zBVYy"
      },
      "source": [
        "$log loss = -1*\\frac{1}{n}\\Sigma_{for each Yt,Y_{pred}}(Ytlog10(Y_{pred})+(1-Yt)log10(1-Y_{pred}))$"
      ]
    },
    {
      "cell_type": "code",
      "execution_count": null,
      "metadata": {
        "id": "VaFDgsp3sKi6"
      },
      "outputs": [],
      "source": [
        "def logloss(y_true,y_pred):\n",
        "    '''In this function, we will compute log loss '''\n",
        "    n=len(y_true)\n",
        "    total=0\n",
        "    for i in range(0,n):\n",
        "        total+=y_true[i]*np.log10(y_pred[i])+(1-y_true[i])*np.log10(1-y_pred[i])\n",
        "    loss=(total*-1)/n\n",
        "    return loss"
      ]
    },
    {
      "cell_type": "markdown",
      "metadata": {
        "id": "tQabIadLCBAB"
      },
      "source": [
        "<font color='blue'>Compute gradient w.r.to  'w' </font>"
      ]
    },
    {
      "cell_type": "markdown",
      "metadata": {
        "id": "YTMxiYKaCQgd"
      },
      "source": [
        "$dw^{(t)} = x_n(y_n − σ((w^{(t)})^{T} x_n+b^{t}))- \\frac{λ}{N}w^{(t)}$ <br>"
      ]
    },
    {
      "cell_type": "code",
      "execution_count": null,
      "metadata": {
        "id": "NMVikyuFsKo5"
      },
      "outputs": [],
      "source": [
        "def gradient_dw(x,y,w,b,alpha,N):\n",
        "    '''In this function, we will compute the gardient w.r.to w '''\n",
        "    z=sigmoid(np.dot(np.transpose(w),x)+b)\n",
        "    dw=x*(y-z)-(alpha/N)*np.transpose(w)\n",
        "    return dw"
      ]
    },
    {
      "cell_type": "markdown",
      "metadata": {
        "id": "LE8g84_GI62n"
      },
      "source": [
        "<font color='blue'>Compute gradient w.r.to 'b' </font>"
      ]
    },
    {
      "cell_type": "markdown",
      "metadata": {
        "id": "fHvTYZzZJJ_N"
      },
      "source": [
        "$ db^{(t)} = y_n- σ((w^{(t)})^{T} x_n+b^{t})$"
      ]
    },
    {
      "cell_type": "code",
      "execution_count": null,
      "metadata": {
        "id": "0nUf2ft4EZp8"
      },
      "outputs": [],
      "source": [
        " def gradient_db(x,y,w,b):\n",
        "     '''In this function, we will compute gradient w.r.to b '''\n",
        "     z=sigmoid(np.dot(np.transpose(w),x)+b)\n",
        "     db=y-z\n",
        "     return db"
      ]
    },
    {
      "cell_type": "code",
      "execution_count": null,
      "metadata": {
        "id": "ZfMoyiRWXo87"
      },
      "outputs": [],
      "source": [
        "train_loss=[]\n",
        "test_loss=[]"
      ]
    },
    {
      "cell_type": "code",
      "execution_count": null,
      "metadata": {
        "id": "dmAdc5ejEZ25"
      },
      "outputs": [],
      "source": [
        "def train(X_train,y_train,X_test,y_test,epochs,alpha,eta0):\n",
        "    ''' In this function, we will implement logistic regression'''\n",
        "    #Here eta0 is learning rate\n",
        "    #implement the code as follows\n",
        "    # initalize the weights (call the initialize_weights(X_train[0]) function)\n",
        "    w,b=initialize_weights(X_train[0])\n",
        "    \n",
        "    # for every epoch\n",
        "    for i in range(0,epochs):\n",
        "        # for every data point(X_train,y_train)\n",
        "        for j in range(0,len(X_train)):\n",
        "           #compute gradient w.r.to w (call the gradient_dw() function)\n",
        "           dw=gradient_dw(X_train[j],y_train[j],w,b,alpha,N)\n",
        "           #compute gradient w.r.to b (call the gradient_db() function)\n",
        "           db=gradient_db(X_train[j],y_train[j],w,b)\n",
        "           w=w+eta0*dw\n",
        "           b=b+eta0*db\n",
        "         \n",
        "           #update w, b\n",
        "        pred=[]\n",
        "        # predict the output of x_train[for all data points in X_train] using w,b\n",
        "        for j in range(0,len(X_train)):\n",
        "            d=np.dot(np.transpose(w),X_train[j])+b\n",
        "            pred.append(sigmoid(d))\n",
        "        #compute the loss between predicted and actual values (call the loss function)\n",
        "        train_loss.append(logloss(y_train,pred))\n",
        "        # store all the train loss values in a list\n",
        "        # predict the output of x_test[for all data points in X_test] using w,b\n",
        "        pred=[]\n",
        "        for j in range(0,len(X_test)):\n",
        "            d=np.dot(np.transpose(w),X_test[j])+b\n",
        "            pred.append(sigmoid(d))\n",
        "        #compute the loss between predicted and actual values (call the loss function)\n",
        "        test_loss.append(logloss(y_test,pred))\n",
        "        # store all the test loss values in a list\n",
        "        # you can also compare previous loss and current loss, if loss is not updating then stop the process and return w,b\n",
        "        #if(i!=0 and test_loss[i]==test_loss[i-1]):\n",
        "         #   break\n",
        "\n",
        "    return w,b"
      ]
    },
    {
      "cell_type": "code",
      "execution_count": null,
      "metadata": {
        "id": "sUquz7LFEZ6E"
      },
      "outputs": [],
      "source": [
        "alpha=0.0001\n",
        "eta0=0.0001\n",
        "N=len(X_train)\n",
        "epochs=10\n",
        "w,b=train(X_train,y_train,X_test,y_test,epochs,alpha,eta0)"
      ]
    },
    {
      "cell_type": "code",
      "execution_count": null,
      "metadata": {
        "id": "nx8Rs9rfEZ1R",
        "outputId": "4512982a-01bf-415b-a8b8-e6d40501e5a4"
      },
      "outputs": [
        {
          "data": {
            "text/plain": [
              "(array([[-3.56441269e-03,  6.19465370e-03,  1.91506968e-03,\n",
              "         -1.95178567e-04,  9.59670368e-04, -3.46279712e-05,\n",
              "          8.31685290e-04,  5.23557174e-04,  4.61113273e-03,\n",
              "         -3.90074267e-03, -1.08531791e-04,  3.24047785e-03,\n",
              "          8.45749627e-04,  4.56977319e-04, -1.65124455e-04]]),\n",
              " array([0.00156173]))"
            ]
          },
          "execution_count": 99,
          "metadata": {},
          "output_type": "execute_result"
        }
      ],
      "source": [
        "# these are the results we got after we implemented sgd and found the optimal weights and intercept\n",
        "w-clf.coef_, b-clf.intercept_"
      ]
    },
    {
      "cell_type": "code",
      "execution_count": null,
      "metadata": {
        "id": "gHbg7JR1Xo88",
        "outputId": "85ed0401-3bdf-41ce-de89-56b1c6d860f3"
      },
      "outputs": [
        {
          "data": {
            "text/plain": [
              "(array([-0.83543917,  0.59554963, -0.05042441,  0.59139957, -0.33675676,\n",
              "         0.87822749, -0.85715792, -0.068385  ,  0.38429384,  0.36811606,\n",
              "         0.22870443,  0.0472269 , -0.07976159,  0.5131997 ,  0.07063889]),\n",
              " array([[-0.83187476,  0.58935497, -0.05233948,  0.59159475, -0.33771644,\n",
              "          0.87826212, -0.85798961, -0.06890856,  0.37968271,  0.3720168 ,\n",
              "          0.22881296,  0.04398642, -0.08060734,  0.51274272,  0.07080401]]))"
            ]
          },
          "execution_count": 100,
          "metadata": {},
          "output_type": "execute_result"
        }
      ],
      "source": [
        "w,clf.coef_"
      ]
    },
    {
      "cell_type": "code",
      "execution_count": null,
      "metadata": {
        "id": "1O6GrRt7UeCJ",
        "scrolled": true,
        "outputId": "b702483f-d56e-4a54-e876-100376f19189"
      },
      "outputs": [
        {
          "data": {
            "text/plain": [
              "<matplotlib.legend.Legend at 0x19022a3d400>"
            ]
          },
          "execution_count": 113,
          "metadata": {},
          "output_type": "execute_result"
        },
        {
          "data": {
            "image/png": "[encoded data removed]",
            "text/plain": [
              "<Figure size 432x288 with 1 Axes>"
            ]
          },
          "metadata": {},
          "output_type": "display_data"
        }
      ],
      "source": [
        "import matplotlib.pyplot as plt\n",
        "plt.plot(np.arange(10),test_loss,label='test_loss')\n",
        "plt.plot(np.arange(10),train_loss,label='train_loss')\n",
        "plt.title('epochs vs loss on test data')\n",
        "plt.xlabel('epochs')\n",
        "plt.ylabel(\"loss\")\n",
        "plt.legend()"
      ]
    },
    {
      "cell_type": "code",
      "execution_count": null,
      "metadata": {
        "id": "FUN8puFoEZtU"
      },
      "outputs": [],
      "source": [
        "def pred(w,b, X):\n",
        "    N = len(X)\n",
        "    predict = []\n",
        "    for i in range(N):\n",
        "        z=np.dot(w,X[i])+b\n",
        "        if sigmoid(z) >= 0.5: # sigmoid(w,x,b) returns 1/(1+exp(-(dot(x,w)+b)))\n",
        "            predict.append(1)\n",
        "        else:\n",
        "            predict.append(0)\n",
        "    return np.array(predict)\n",
        "print(1-np.sum(y_train - pred(w,b,X_train))/len(X_train))\n",
        "print(1-np.sum(y_test  - pred(w,b,X_test))/len(X_test))"
      ]
    }
  ]
}